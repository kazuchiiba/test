{
 "cells": [
  {
   "cell_type": "markdown",
   "metadata": {},
   "source": [
    "2020/04/05\n",
    "株データの解析"
   ]
  },
  {
   "cell_type": "markdown",
   "metadata": {},
   "source": [
    "ライブラリのインポート"
   ]
  },
  {
   "cell_type": "code",
   "execution_count": 2,
   "metadata": {},
   "outputs": [],
   "source": [
    "import pandas as pd\n",
    "import datetime\n",
    "import matplotlib.pyplot as plt\n",
    "import matplotlib.dates as mdate\n",
    "%matplotlib inline"
   ]
  },
  {
   "cell_type": "markdown",
   "metadata": {},
   "source": [
    "URLの設定。ULLNET（ http://www.ullet.com/ ）のサイトから企業名を検索、決算書を選択。\n",
    "今回は一例として、サイバーエージェントの決算データから純利益率と粗利率を計算し表示する。"
   ]
  },
  {
   "cell_type": "code",
   "execution_count": 6,
   "metadata": {},
   "outputs": [],
   "source": [
    "## スクライピング処理\n",
    "url = 'http://www.ullet.com/4751.html#all'\n",
    "df = pd.read_html(url)"
   ]
  },
  {
   "cell_type": "markdown",
   "metadata": {},
   "source": [
    "PL参照"
   ]
  },
  {
   "cell_type": "code",
   "execution_count": 7,
   "metadata": {},
   "outputs": [
    {
     "name": "stdout",
     "output_type": "stream",
     "text": [
      "     決算年月日    2015年9月30日    2016年9月30日   2017年9月30日   2018年9月30日   2019年9月30日\n",
      "0      売上高        254381        310665       371362       419512       453611\n",
      "1     売上合計        254381        310665       371362       419512       453611\n",
      "2     売上原価        162160        197736       248386       289496       320311\n",
      "3  その他費用収益         77429         99313       118952       125167       131606\n",
      "4    費用等合計        239589        297049       367338       414663       451917\n",
      "5    売上総利益         92221        112929       122976       130016       133300\n",
      "6  税引前当期利益         32314         35341        28741        28565        30493\n",
      "7    当期純利益  14,792(5.8%)  13,616(4.4%)  4,024(1.1%)  4,849(1.2%)  1,694(0.4%)\n",
      "8    当期純利益         14792         13616         4024         4849         1694\n",
      "決算年月日       index     売上高    売上合計    売上原価 その他費用収益   費用等合計   売上総利益 税引前当期利益  \\\n",
      "0      2015年9月30日  254381  254381  162160   77429  239589   92221   32314   \n",
      "1      2016年9月30日  310665  310665  197736   99313  297049  112929   35341   \n",
      "2      2017年9月30日  371362  371362  248386  118952  367338  122976   28741   \n",
      "3      2018年9月30日  419512  419512  289496  125167  414663  130016   28565   \n",
      "4      2019年9月30日  453611  453611  320311  131606  451917  133300   30493   \n",
      "\n",
      "決算年月日      当期純利益(率)  当期純利益       Date        粗利率      純利益率  \n",
      "0      14,792(5.8%)  14792 2015-09-30  36.253101  5.814900  \n",
      "1      13,616(4.4%)  13616 2016-09-30  36.350731  4.382856  \n",
      "2       4,024(1.1%)   4024 2017-09-30  33.114858  1.083579  \n",
      "3       4,849(1.2%)   4849 2018-09-30  30.992200  1.155867  \n",
      "4       1,694(0.4%)   1694 2019-09-30  29.386413  0.373448  \n"
     ]
    }
   ],
   "source": [
    "# 決算書の「損益計算書（P/L）」を参照\n",
    "print(df[6])\n",
    "# インデックス名が重複している一方の\"当期純利益\"をrename\n",
    "df[6].loc[7,'決算年月日'] = \"当期純利益(率)\"\n",
    "\n",
    "# 行と列変換用に、行のインデックスを名称にする　\n",
    "# (行と列を入れ替え後に系列名が数字になるのを避けるため)\n",
    "df_i = df[6].set_index('決算年月日')\n",
    "\n",
    "# 行と列を変換\n",
    "df_it=df_i.T\n",
    "# インデックスをつけなおす\n",
    "df_it = df_it.reset_index()\n",
    "\n",
    "# 日付の修正  (この部分は出典１を参考にさせていただきました)\n",
    "dates = []\n",
    "for day in df_it['index']:\n",
    "    day = day.replace(\"年\", \"-\")\n",
    "    day = day.replace(\"月\", \"-\")\n",
    "    day = day.replace(\"日\", \"\")\n",
    "    time = datetime.datetime.strptime(day, '%Y-%m-%d')\n",
    "    dates.append(time)\n",
    "df_it[\"Date\"] = dates\n",
    "\n",
    "## 「損益計算書（P/L）」の解析部分（今回はちょっとだけ）\n",
    "# 粗利益率を計算\n",
    "df_it['粗利率'] = df_it['売上総利益'].astype(float) / df_it['売上高'].astype(float) * 100\n",
    "\n",
    "# 純利益率を計算\n",
    "df_it['純利益率'] = df_it['当期純利益'].astype(float) / df_it['売上高'].astype(float) * 100\n",
    "\n",
    "print(df_it)"
   ]
  },
  {
   "cell_type": "markdown",
   "metadata": {},
   "source": [
    "粗利の表示"
   ]
  },
  {
   "cell_type": "code",
   "execution_count": 13,
   "metadata": {},
   "outputs": [
    {
     "data": {
      "image/png": "[encoded data removed]",
      "text/plain": [
       "<Figure size 432x288 with 1 Axes>"
      ]
     },
     "metadata": {
      "needs_background": "light"
     },
     "output_type": "display_data"
    }
   ],
   "source": [
    "## グラフ表示処理\n",
    "# 粗利率のプロット\n",
    "x = df_it['Date']\n",
    "y1 = df_it['粗利率']\n",
    "plt.plot(x, y1, color=\"blue\", linewidth=1, linestyle=\"-\",marker='.', label='粗利率')\n",
    "\n",
    "# 純利益率のプロット\n",
    "y2 = df_it['純利益率']\n",
    "plt.plot(x, y2, color=\"red\", linewidth=1, linestyle=\"-\",marker='+', label='純利益率')\n",
    "\n",
    "# ラベルを追加\n",
    "plt.xlabel('日付', fontname=\"MS Gothic\")\n",
    "plt.ylabel('Profit Mergin(%)')\n",
    "\n",
    "#グリッド線(（お好みで）\n",
    "plt.grid(True)\n",
    "plt.grid(which='major',linestyle='dashed')\n",
    "plt.grid(which='minor',linestyle='dashed')\n",
    "\n",
    "# x軸の目盛ラベルを年単位で\n",
    "locator = mdate.YearLocator()\n",
    "plt.gca().xaxis.set_major_locator(locator)\n",
    "plt.gcf().autofmt_xdate()\n",
    "\n",
    "# 凡例を追加（お好みで）\n",
    "plt.legend(prop={\"family\":\"MS Gothic\"})\n",
    "\n",
    "plt.show()"
   ]
  },
  {
   "cell_type": "code",
   "execution_count": null,
   "metadata": {},
   "outputs": [],
   "source": []
  }
 ],
 "metadata": {
  "kernelspec": {
   "display_name": "Python 3",
   "language": "python",
   "name": "python3"
  },
  "language_info": {
   "codemirror_mode": {
    "name": "ipython",
    "version": 3
   },
   "file_extension": ".py",
   "mimetype": "text/x-python",
   "name": "python",
   "nbconvert_exporter": "python",
   "pygments_lexer": "ipython3",
   "version": "3.7.3"
  }
 },
 "nbformat": 4,
 "nbformat_minor": 2
}
